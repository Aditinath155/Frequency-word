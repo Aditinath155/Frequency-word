{
  "nbformat": 4,
  "nbformat_minor": 0,
  "metadata": {
    "colab": {
      "provenance": []
    },
    "kernelspec": {
      "name": "python3",
      "display_name": "Python 3"
    },
    "language_info": {
      "name": "python"
    }
  },
  "cells": [
    {
      "cell_type": "code",
      "execution_count": 7,
      "metadata": {
        "colab": {
          "base_uri": "https://localhost:8080/"
        },
        "id": "Tiux93co4L8j",
        "outputId": "1494c268-9b3c-4a97-c075-9c234377b07b"
      },
      "outputs": [
        {
          "output_type": "stream",
          "name": "stdout",
          "text": [
            "Welcome to the letter counter app\n",
            "What is your name? Mike\n",
            "Hello Mike! \n",
            "I will count the number of time specific letter/word repeat in a rticle\n",
            "Please enter a newspaper article:- The scene is the neighbourIdentifying autism Autism is a neurodevelopmental condition, not a disease. This means there is a difference in how the brains of autistic children are wired, which becomes evident as the child develops. Autism is not uncommon: recent statistics from the U.S. show a prevalence of 1 in 44, while our own Indian data suggests 1 in 100.  The diagnosis of autism is often made by a paediatrician or a psychiatrist with experience in seeing children with autism. We don’t fully understand the causes of autism but clearly there is a strong genetic component. If there is one child with autism in the family, there is an increased chance of the sibling being on the autism spectrum as well.hood park. A group of 2- or  3-year-old children are playing together, with their mothers watching. One toddler, Arun, is off to the side. He is looking up at the trees, squinting at the light. His mother calls several times but he does not respond. He doesn’t seem interested in the other children or their toys. He holds a little car tightly in his hand.  Sometimes he says a few words, but they have no connection to what the other children are talking about. Arun’s mother has been worried but her family has reassured her that boys speak late.  Parents’ concerns about children like Arun are often dismissed by family members and  professionals who don’t know the early signs of autism. Early identification is important because it leads to early intervention that can change the life of a child with autism.Autism is characterised by differences in three key areas. The first two are communication and social interaction, which often go together. Children with autism may struggle to communicate with others who are not like them. For example, children with autism may not use pointing, gestures or words to communicate, and instead may pull their parents towards what they need. They may use words out of context and sometimes repeat words.  Communicating with children The difference in how autistic children interact socially becomes evident when we watch them play. Games that require turn taking, like hide and seek, are often not intuitive for them. Little Arun in the park plays with cars by himself, just rolling them back and forth for hours. He can also do a 50-piece puzzle in a few minutes. Most children begin pretend play, like pretending to feed a doll, between one and two years of age. But Arun, like many other autistic children, prefers blocks, puzzles or mechanical toys over pretend play. \n",
            "\n",
            "Which letter you want to count the occurence of? children\n",
            "Mike, your newspaper article has 12 in it. \n"
          ]
        }
      ],
      "source": [
        "print('Welcome to the letter counter app')\n",
        "name = input('What is your name? ')\n",
        "print(f'Hello {name}! ')\n",
        "print('I will count the number of time specific letter/word repeat in a rticle')\n",
        "\n",
        "article = input('Please enter a newspaper article:- ').lower()\n",
        "counts = input('\\nWhich letter you want to count the occurence of? ').lower()\n",
        "freq = article.count(counts)\n",
        "print(f'{name}, your newspaper article has {freq} repeated {counts} in it. ')\n"
      ]
    }
  ]
}